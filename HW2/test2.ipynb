{
 "cells": [
  {
   "cell_type": "markdown",
   "metadata": {},
   "source": [
    "# HW2-2  Hessian矩阵  \n",
    "## Hessian矩阵  \n",
    "假设我们在训练一个神经网络，同时我们想知道我们的模型是否处于局部最小值，鞍点，或者二者都不是，我们可以通过计算Hessian矩阵查明答案。   \n",
    "在实际应用中，很难找到一个梯度值等于零或所有特征值都大于零的点。在这个作业中，我们做了以下两个假设：  \n",
    "### 1.视梯度范数小于1e-3为梯度等于零。   \n",
    "### 2.如果最小比值大于0.5，梯度范数小于1e-3，则假设模型处于局部极小值。   \n",
    "最小比值定义为正特征值的比例。   \n",
    "## 重要提示  \n",
    "在这个作业中，不同起始数将得到不同的答案。请确保正确填写您的起始数。否则，您的代码可能无法正确运行，您将得到错误的答案。"
   ]
  },
  {
   "cell_type": "code",
   "execution_count": null,
   "metadata": {},
   "outputs": [],
   "source": [
    "id = 123456"
   ]
  },
  {
   "cell_type": "markdown",
   "metadata": {},
   "source": [
    "### Hessian矩阵的计算"
   ]
  },
  {
   "cell_type": "code",
   "execution_count": 3,
   "metadata": {},
   "outputs": [
    {
     "ename": "SyntaxError",
     "evalue": "invalid syntax (<ipython-input-3-5fdf0ace5774>, line 4)",
     "output_type": "error",
     "traceback": [
      "\u001b[1;36m  File \u001b[1;32m\"<ipython-input-3-5fdf0ace5774>\"\u001b[1;36m, line \u001b[1;32m4\u001b[0m\n\u001b[1;33m    from autograd-lib import autograd_lib\u001b[0m\n\u001b[1;37m                 ^\u001b[0m\n\u001b[1;31mSyntaxError\u001b[0m\u001b[1;31m:\u001b[0m invalid syntax\n"
     ]
    }
   ],
   "source": [
    "import numpy as np\n",
    "from math import pi\n",
    "from collections import defaultdict"
   ]
  }
 ],
 "metadata": {
  "interpreter": {
   "hash": "d12a6980af1de3549060b7b451d48d445ec6b4aaeaf0b0e12a509d2182e95745"
  },
  "kernelspec": {
   "display_name": "Python 3.8.3 ('base')",
   "language": "python",
   "name": "python3"
  },
  "language_info": {
   "codemirror_mode": {
    "name": "ipython",
    "version": 3
   },
   "file_extension": ".py",
   "mimetype": "text/x-python",
   "name": "python",
   "nbconvert_exporter": "python",
   "pygments_lexer": "ipython3",
   "version": "3.8.3"
  },
  "orig_nbformat": 4
 },
 "nbformat": 4,
 "nbformat_minor": 2
}
